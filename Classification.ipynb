{
 "cells": [
  {
   "cell_type": "code",
   "execution_count": null,
   "id": "e715440f",
   "metadata": {},
   "outputs": [
    {
     "name": "stderr",
     "output_type": "stream",
     "text": [
      "c:\\Users\\DHRUV\\anaconda3\\envs\\image\\Lib\\site-packages\\tqdm\\auto.py:21: TqdmWarning: IProgress not found. Please update jupyter and ipywidgets. See https://ipywidgets.readthedocs.io/en/stable/user_install.html\n",
      "  from .autonotebook import tqdm as notebook_tqdm\n"
     ]
    }
   ],
   "source": [
    "from datasets import load_dataset,load_from_disk\n",
    "from transformers import AutoTokenizer,DistilBertForSequenceClassification\n",
    "import matplotlib.pyplot as plt\n",
    "import torch\n",
    "import numpy as np"
   ]
  },
  {
   "cell_type": "markdown",
   "id": "4dabf614",
   "metadata": {},
   "source": [
    "# Loading and analysing dataset"
   ]
  },
  {
   "cell_type": "code",
   "execution_count": 2,
   "id": "09443669",
   "metadata": {},
   "outputs": [
    {
     "name": "stderr",
     "output_type": "stream",
     "text": [
      "c:\\Users\\DHRUV\\anaconda3\\envs\\image\\Lib\\site-packages\\huggingface_hub\\file_download.py:143: UserWarning: `huggingface_hub` cache-system uses symlinks by default to efficiently store duplicated files but your machine does not support them in C:\\Users\\DHRUV\\.cache\\huggingface\\hub\\datasets--google-research-datasets--go_emotions. Caching files will still work but in a degraded version that might require more space on your disk. This warning can be disabled by setting the `HF_HUB_DISABLE_SYMLINKS_WARNING` environment variable. For more details, see https://huggingface.co/docs/huggingface_hub/how-to-cache#limitations.\n",
      "To support symlinks on Windows, you either need to activate Developer Mode or to run Python as an administrator. In order to activate developer mode, see this article: https://docs.microsoft.com/en-us/windows/apps/get-started/enable-your-device-for-development\n",
      "  warnings.warn(message)\n",
      "Generating train split: 100%|██████████| 43410/43410 [00:00<00:00, 1236584.74 examples/s]\n",
      "Generating validation split: 100%|██████████| 5426/5426 [00:00<00:00, 1145244.24 examples/s]\n",
      "Generating test split: 100%|██████████| 5427/5427 [00:00<00:00, 1030489.74 examples/s]\n",
      "Saving the dataset (1/1 shards): 100%|██████████| 43410/43410 [00:00<00:00, 1324247.32 examples/s]\n",
      "Saving the dataset (1/1 shards): 100%|██████████| 5426/5426 [00:00<00:00, 310769.79 examples/s]\n",
      "Saving the dataset (1/1 shards): 100%|██████████| 5427/5427 [00:00<00:00, 617472.00 examples/s]\n"
     ]
    }
   ],
   "source": [
    "ds = load_dataset(\"google-research-datasets/go_emotions\", \"simplified\")\n",
    "ds.save_to_disk(r\"C:\\Users\\DHRUV\\Desktop\\IProject\\emotion_dataset\")"
   ]
  },
  {
   "cell_type": "code",
   "execution_count": 3,
   "id": "22fb5879",
   "metadata": {},
   "outputs": [],
   "source": [
    "dataset = load_from_disk(r\"C:\\Users\\DHRUV\\Desktop\\IProject\\emotion_dataset\")"
   ]
  },
  {
   "cell_type": "code",
   "execution_count": 4,
   "id": "59a06d93",
   "metadata": {},
   "outputs": [
    {
     "data": {
      "text/plain": [
       "Dataset({\n",
       "    features: ['text', 'labels', 'id'],\n",
       "    num_rows: 43410\n",
       "})"
      ]
     },
     "execution_count": 4,
     "metadata": {},
     "output_type": "execute_result"
    }
   ],
   "source": [
    "dataset[\"train\"]"
   ]
  },
  {
   "cell_type": "code",
   "execution_count": 5,
   "id": "34d55b6a",
   "metadata": {},
   "outputs": [
    {
     "data": {
      "text/plain": [
       "ClassLabel(names=['admiration', 'amusement', 'anger', 'annoyance', 'approval', 'caring', 'confusion', 'curiosity', 'desire', 'disappointment', 'disapproval', 'disgust', 'embarrassment', 'excitement', 'fear', 'gratitude', 'grief', 'joy', 'love', 'nervousness', 'optimism', 'pride', 'realization', 'relief', 'remorse', 'sadness', 'surprise', 'neutral'])"
      ]
     },
     "execution_count": 5,
     "metadata": {},
     "output_type": "execute_result"
    }
   ],
   "source": [
    "dataset[\"train\"].features[\"labels\"].feature"
   ]
  },
  {
   "cell_type": "code",
   "execution_count": 6,
   "id": "e02a53d9",
   "metadata": {},
   "outputs": [
    {
     "name": "stdout",
     "output_type": "stream",
     "text": [
      "{'text': \"My favourite food is anything I didn't have to cook myself.\", 'labels': [27], 'id': 'eebbqej'}\n",
      "{'text': 'Now if he does off himself, everyone will think hes having a laugh screwing with people instead of actually dead', 'labels': [27], 'id': 'ed00q6i'}\n",
      "{'text': 'WHY THE FUCK IS BAYLESS ISOING', 'labels': [2], 'id': 'eezlygj'}\n",
      "{'text': 'To make her feel threatened', 'labels': [14], 'id': 'ed7ypvh'}\n",
      "{'text': 'Dirty Southern Wankers', 'labels': [3], 'id': 'ed0bdzj'}\n",
      "{'text': \"OmG pEyToN iSn'T gOoD eNoUgH tO hElP uS iN tHe PlAyOfFs! Dumbass Broncos fans circa December 2015.\", 'labels': [26], 'id': 'edvnz26'}\n",
      "{'text': 'Yes I heard abt the f bombs! That has to be why. Thanks for your reply:) until then hubby and I will anxiously wait 😝', 'labels': [15], 'id': 'ee3b6wu'}\n",
      "{'text': 'We need more boards and to create a bit more space for [NAME]. Then we’ll be good.', 'labels': [8, 20], 'id': 'ef4qmod'}\n",
      "{'text': 'Damn youtube and outrage drama is super lucrative for reddit', 'labels': [0], 'id': 'ed8wbdn'}\n",
      "{'text': 'It might be linked to the trust factor of your friend.', 'labels': [27], 'id': 'eczgv1o'}\n",
      "{'text': 'Demographics? I don’t know anybody under 35 who has cable tv.', 'labels': [6], 'id': 'eel6g5h'}\n",
      "{'text': \"Aww... she'll probably come around eventually, I'm sure she was just jealous of [NAME]... I mean, what woman wouldn't be! lol \", 'labels': [1, 4], 'id': 'edex4ki'}\n",
      "{'text': 'Hello everyone. Im from Toronto as well. Can call and visit in personal if needed.', 'labels': [27], 'id': 'ef83m1s'}\n",
      "{'text': \"R/sleeptrain Might be time for some sleep training. Take a look and try to feel out what's right for your family.\", 'labels': [5], 'id': 'efh7xnk'}\n",
      "{'text': '[NAME] - same fucking problem, slightly better command of the English language.', 'labels': [3], 'id': 'efdqav7'}\n",
      "{'text': 'Shit, I guess I accidentally bought a Pay-Per-View boxing match', 'labels': [3, 12], 'id': 'edivtm3'}\n",
      "{'text': 'Thank you friend', 'labels': [15], 'id': 'eeqd04y'}\n",
      "{'text': 'Fucking coward.', 'labels': [2], 'id': 'edk0z9k'}\n",
      "{'text': 'that is what retardation looks like', 'labels': [27], 'id': 'eeb9aft'}\n",
      "{'text': 'Maybe that’s what happened to the great white at Houston zoo', 'labels': [6, 22], 'id': 'eczq8zg'}\n",
      "{'text': 'I never thought it was at the same moment, but sometimes after [NAME] sacrifice... sounds logical', 'labels': [6, 9, 27], 'id': 'efdlhs1'}\n",
      "{'text': 'i got a bump and a bald spot. i feel dumb <3', 'labels': [12], 'id': 'ee4tgim'}\n",
      "{'text': 'You are going to do the dishes now', 'labels': [27], 'id': 'ee7it59'}\n",
      "{'text': 'Slowing things down now', 'labels': [27], 'id': 'ed4nz06'}\n",
      "{'text': \"His name has already been released. Just can't post it here.\", 'labels': [27], 'id': 'ee18uaj'}\n",
      "{'text': 'Stupidly stubborn / stubbornly stupid', 'labels': [2], 'id': 'edkh6qo'}\n",
      "{'text': 'Mine was apparently [NAME] and the giant peach!', 'labels': [27], 'id': 'edafy84'}\n",
      "{'text': 'I miss them being alive', 'labels': [16, 25], 'id': 'ee8mzwa'}\n",
      "{'text': 'Super, thanks', 'labels': [15], 'id': 'ef462jc'}\n",
      "{'text': \"A new study just came out from China that it's actually too late.\", 'labels': [27], 'id': 'ee62fgk'}\n",
      "{'text': \"Troll, bro. They know they're saying stupid shit. The motherfucker does nothing but stink up libertarian subs talking shit\", 'labels': [2], 'id': 'eebcbcp'}\n",
      "{'text': \"All sounds possible except the key, I can't see how it was missed in the first search. \", 'labels': [6], 'id': 'ed7wf2c'}\n",
      "{'text': 'Your aunt has some damn nerve, though!', 'labels': [27], 'id': 'edmcxu7'}\n",
      "{'text': 'Ok, then what the actual fuck is your plan?', 'labels': [2, 7], 'id': 'ee7ujla'}\n",
      "{'text': 'What does FPTP have to do with the referendum?', 'labels': [6], 'id': 'edtqqyi'}\n",
      "{'text': 'Happy to be able to help.', 'labels': [17], 'id': 'efeu6uo'}\n",
      "{'text': \"18 is hot but very bland, it's just here this blonde lady who is not as hot as blonde launch.\", 'labels': [27], 'id': 'ef81n89'}\n",
      "{'text': 'Famous for his 3-4 Defense', 'labels': [0], 'id': 'ednhqdr'}\n",
      "{'text': 'Pretty sure I’ve seen this. He swings away with the harness he is wearing. Still looks painful but I think he lives', 'labels': [25], 'id': 'ed0i62x'}\n",
      "{'text': 'When I feel down I listen to music.', 'labels': [27], 'id': 'ed6mn9k'}\n",
      "{'text': 'aw, thanks! I appreciate that! ', 'labels': [0, 15], 'id': 'eecj1hh'}\n",
      "{'text': 'Thanks! I love watching him every week', 'labels': [15, 18], 'id': 'eexgn84'}\n",
      "{'text': 'I read on a different post that he died shortly after of internal injuries.', 'labels': [16, 27], 'id': 'ed2wzm6'}\n",
      "{'text': 'Honestly it sounds exhausting being married to him. Maybe it will be better for you in the long run.', 'labels': [27], 'id': 'ef7hdbf'}\n",
      "{'text': \"It's crazy how far Photoshop has come. Underwater bridges?!! NEVER!!!\", 'labels': [7, 13], 'id': 'efanc6t'}\n",
      "{'text': \"I wouldn't let a sweet potato dictate decisions, ever.\", 'labels': [10], 'id': 'eddo15s'}\n",
      "{'text': \"It's true though. He either gets no shirt and freezes to death or wears a stupid looking butchers cape. I hope he gets something better next season\", 'labels': [20], 'id': 'edrbhky'}\n",
      "{'text': \"It's a better option because it's my life and none of your business? Lmfao, who are you\", 'labels': [27], 'id': 'ednnkuc'}\n",
      "{'text': 'Sack, shaft, and tip. The trifecta. ', 'labels': [27], 'id': 'edly6hm'}\n",
      "{'text': 'I know. My question was if they **used** to compete in T5-TTT2.', 'labels': [27], 'id': 'efdj3ai'}\n"
     ]
    }
   ],
   "source": [
    "for ind,example in enumerate(dataset[\"train\"]):\n",
    "    if ind < 50:\n",
    "        print(example)\n",
    "    else:\n",
    "        break"
   ]
  },
  {
   "cell_type": "code",
   "execution_count": 7,
   "id": "81f702c1",
   "metadata": {},
   "outputs": [],
   "source": [
    "#Their are many samples with emojis and many with unknown characters like [NAME] all those will be taken care in tokenization"
   ]
  },
  {
   "cell_type": "markdown",
   "id": "26d5e493",
   "metadata": {},
   "source": [
    "## Hugging face dataset to pandas dataset"
   ]
  },
  {
   "cell_type": "code",
   "execution_count": 8,
   "id": "e87cd2ae",
   "metadata": {},
   "outputs": [
    {
     "data": {
      "text/html": [
       "<div>\n",
       "<style scoped>\n",
       "    .dataframe tbody tr th:only-of-type {\n",
       "        vertical-align: middle;\n",
       "    }\n",
       "\n",
       "    .dataframe tbody tr th {\n",
       "        vertical-align: top;\n",
       "    }\n",
       "\n",
       "    .dataframe thead th {\n",
       "        text-align: right;\n",
       "    }\n",
       "</style>\n",
       "<table border=\"1\" class=\"dataframe\">\n",
       "  <thead>\n",
       "    <tr style=\"text-align: right;\">\n",
       "      <th></th>\n",
       "      <th>text</th>\n",
       "      <th>labels</th>\n",
       "      <th>id</th>\n",
       "    </tr>\n",
       "  </thead>\n",
       "  <tbody>\n",
       "    <tr>\n",
       "      <th>0</th>\n",
       "      <td>My favourite food is anything I didn't have to...</td>\n",
       "      <td>[27]</td>\n",
       "      <td>eebbqej</td>\n",
       "    </tr>\n",
       "    <tr>\n",
       "      <th>1</th>\n",
       "      <td>Now if he does off himself, everyone will thin...</td>\n",
       "      <td>[27]</td>\n",
       "      <td>ed00q6i</td>\n",
       "    </tr>\n",
       "    <tr>\n",
       "      <th>2</th>\n",
       "      <td>WHY THE FUCK IS BAYLESS ISOING</td>\n",
       "      <td>[2]</td>\n",
       "      <td>eezlygj</td>\n",
       "    </tr>\n",
       "    <tr>\n",
       "      <th>3</th>\n",
       "      <td>To make her feel threatened</td>\n",
       "      <td>[14]</td>\n",
       "      <td>ed7ypvh</td>\n",
       "    </tr>\n",
       "    <tr>\n",
       "      <th>4</th>\n",
       "      <td>Dirty Southern Wankers</td>\n",
       "      <td>[3]</td>\n",
       "      <td>ed0bdzj</td>\n",
       "    </tr>\n",
       "  </tbody>\n",
       "</table>\n",
       "</div>"
      ],
      "text/plain": [
       "                                                text labels       id\n",
       "0  My favourite food is anything I didn't have to...   [27]  eebbqej\n",
       "1  Now if he does off himself, everyone will thin...   [27]  ed00q6i\n",
       "2                     WHY THE FUCK IS BAYLESS ISOING    [2]  eezlygj\n",
       "3                        To make her feel threatened   [14]  ed7ypvh\n",
       "4                             Dirty Southern Wankers    [3]  ed0bdzj"
      ]
     },
     "execution_count": 8,
     "metadata": {},
     "output_type": "execute_result"
    }
   ],
   "source": [
    "dataset.set_format(\"pandas\")\n",
    "df = dataset[\"train\"][:]\n",
    "df.head()"
   ]
  },
  {
   "cell_type": "code",
   "execution_count": 9,
   "id": "1b803d96",
   "metadata": {},
   "outputs": [],
   "source": [
    "bd = len(df[\"labels\"])"
   ]
  },
  {
   "cell_type": "code",
   "execution_count": 10,
   "id": "cabb84e9",
   "metadata": {},
   "outputs": [
    {
     "data": {
      "text/html": [
       "<div>\n",
       "<style scoped>\n",
       "    .dataframe tbody tr th:only-of-type {\n",
       "        vertical-align: middle;\n",
       "    }\n",
       "\n",
       "    .dataframe tbody tr th {\n",
       "        vertical-align: top;\n",
       "    }\n",
       "\n",
       "    .dataframe thead th {\n",
       "        text-align: right;\n",
       "    }\n",
       "</style>\n",
       "<table border=\"1\" class=\"dataframe\">\n",
       "  <thead>\n",
       "    <tr style=\"text-align: right;\">\n",
       "      <th></th>\n",
       "      <th>text</th>\n",
       "      <th>labels</th>\n",
       "      <th>id</th>\n",
       "    </tr>\n",
       "  </thead>\n",
       "  <tbody>\n",
       "    <tr>\n",
       "      <th>0</th>\n",
       "      <td>My favourite food is anything I didn't have to...</td>\n",
       "      <td>[27]</td>\n",
       "      <td>eebbqej</td>\n",
       "    </tr>\n",
       "    <tr>\n",
       "      <th>1</th>\n",
       "      <td>Now if he does off himself, everyone will thin...</td>\n",
       "      <td>[27]</td>\n",
       "      <td>ed00q6i</td>\n",
       "    </tr>\n",
       "    <tr>\n",
       "      <th>2</th>\n",
       "      <td>WHY THE FUCK IS BAYLESS ISOING</td>\n",
       "      <td>[2]</td>\n",
       "      <td>eezlygj</td>\n",
       "    </tr>\n",
       "    <tr>\n",
       "      <th>3</th>\n",
       "      <td>To make her feel threatened</td>\n",
       "      <td>[14]</td>\n",
       "      <td>ed7ypvh</td>\n",
       "    </tr>\n",
       "    <tr>\n",
       "      <th>4</th>\n",
       "      <td>Dirty Southern Wankers</td>\n",
       "      <td>[3]</td>\n",
       "      <td>ed0bdzj</td>\n",
       "    </tr>\n",
       "  </tbody>\n",
       "</table>\n",
       "</div>"
      ],
      "text/plain": [
       "                                                text labels       id\n",
       "0  My favourite food is anything I didn't have to...   [27]  eebbqej\n",
       "1  Now if he does off himself, everyone will thin...   [27]  ed00q6i\n",
       "2                     WHY THE FUCK IS BAYLESS ISOING    [2]  eezlygj\n",
       "3                        To make her feel threatened   [14]  ed7ypvh\n",
       "4                             Dirty Southern Wankers    [3]  ed0bdzj"
      ]
     },
     "execution_count": 10,
     "metadata": {},
     "output_type": "execute_result"
    }
   ],
   "source": [
    "for ind in range(len(df['labels'])):\n",
    "    if len(df[\"labels\"][ind]) >1:\n",
    "        df = df.drop(ind)\n",
    "df.head()"
   ]
  },
  {
   "cell_type": "code",
   "execution_count": 11,
   "id": "a249a386",
   "metadata": {},
   "outputs": [
    {
     "name": "stdout",
     "output_type": "stream",
     "text": [
      "After deleting the samples with multiple labels for plotting the length is 36308 before it was 43410\n"
     ]
    }
   ],
   "source": [
    "print(f\"After deleting the samples with multiple labels for plotting the length is {len(df['labels'])} before it was {bd}\")"
   ]
  },
  {
   "cell_type": "code",
   "execution_count": 12,
   "id": "a8038d98",
   "metadata": {},
   "outputs": [],
   "source": [
    "def interger_to_string(label):\n",
    "    return dataset[\"train\"].features[\"labels\"].feature.int2str(label)\n",
    "\n",
    "df[\"label_text\"] = df[\"labels\"].apply(interger_to_string)"
   ]
  },
  {
   "cell_type": "code",
   "execution_count": 13,
   "id": "f5186f1c",
   "metadata": {},
   "outputs": [
    {
     "data": {
      "text/html": [
       "<div>\n",
       "<style scoped>\n",
       "    .dataframe tbody tr th:only-of-type {\n",
       "        vertical-align: middle;\n",
       "    }\n",
       "\n",
       "    .dataframe tbody tr th {\n",
       "        vertical-align: top;\n",
       "    }\n",
       "\n",
       "    .dataframe thead th {\n",
       "        text-align: right;\n",
       "    }\n",
       "</style>\n",
       "<table border=\"1\" class=\"dataframe\">\n",
       "  <thead>\n",
       "    <tr style=\"text-align: right;\">\n",
       "      <th></th>\n",
       "      <th>text</th>\n",
       "      <th>labels</th>\n",
       "      <th>label_text</th>\n",
       "    </tr>\n",
       "  </thead>\n",
       "  <tbody>\n",
       "    <tr>\n",
       "      <th>0</th>\n",
       "      <td>My favourite food is anything I didn't have to...</td>\n",
       "      <td>[27]</td>\n",
       "      <td>[neutral]</td>\n",
       "    </tr>\n",
       "    <tr>\n",
       "      <th>1</th>\n",
       "      <td>Now if he does off himself, everyone will thin...</td>\n",
       "      <td>[27]</td>\n",
       "      <td>[neutral]</td>\n",
       "    </tr>\n",
       "    <tr>\n",
       "      <th>2</th>\n",
       "      <td>WHY THE FUCK IS BAYLESS ISOING</td>\n",
       "      <td>[2]</td>\n",
       "      <td>[anger]</td>\n",
       "    </tr>\n",
       "    <tr>\n",
       "      <th>3</th>\n",
       "      <td>To make her feel threatened</td>\n",
       "      <td>[14]</td>\n",
       "      <td>[fear]</td>\n",
       "    </tr>\n",
       "    <tr>\n",
       "      <th>4</th>\n",
       "      <td>Dirty Southern Wankers</td>\n",
       "      <td>[3]</td>\n",
       "      <td>[annoyance]</td>\n",
       "    </tr>\n",
       "  </tbody>\n",
       "</table>\n",
       "</div>"
      ],
      "text/plain": [
       "                                                text labels   label_text\n",
       "0  My favourite food is anything I didn't have to...   [27]    [neutral]\n",
       "1  Now if he does off himself, everyone will thin...   [27]    [neutral]\n",
       "2                     WHY THE FUCK IS BAYLESS ISOING    [2]      [anger]\n",
       "3                        To make her feel threatened   [14]       [fear]\n",
       "4                             Dirty Southern Wankers    [3]  [annoyance]"
      ]
     },
     "execution_count": 13,
     "metadata": {},
     "output_type": "execute_result"
    }
   ],
   "source": [
    "df = df.drop(columns=\"id\")\n",
    "df.head()"
   ]
  },
  {
   "cell_type": "code",
   "execution_count": 14,
   "id": "e9a0d695",
   "metadata": {},
   "outputs": [
    {
     "data": {
      "image/png": "[encoded data removed]",
      "text/plain": [
       "<Figure size 640x480 with 1 Axes>"
      ]
     },
     "metadata": {},
     "output_type": "display_data"
    }
   ],
   "source": [
    "df[\"label_text\"].value_counts(ascending = True).plot.barh()\n",
    "plt.title(\"Number of samples per label\")\n",
    "plt.show()"
   ]
  },
  {
   "cell_type": "code",
   "execution_count": 15,
   "id": "3cce1c76",
   "metadata": {},
   "outputs": [],
   "source": [
    "#As we can see in their are many samples of neutral and very less of grief also their were many samples which belonged to more than one label we have ignored those sample in this comparsion"
   ]
  },
  {
   "cell_type": "code",
   "execution_count": 16,
   "id": "29cdfe91",
   "metadata": {},
   "outputs": [],
   "source": [
    "del(df)"
   ]
  },
  {
   "cell_type": "markdown",
   "id": "40192924",
   "metadata": {},
   "source": [
    "# Making token encodings"
   ]
  },
  {
   "cell_type": "code",
   "execution_count": 17,
   "id": "06d2c559",
   "metadata": {},
   "outputs": [],
   "source": [
    "dataset = load_from_disk(r\"C:\\Users\\DHRUV\\Desktop\\IProject\\emotion_dataset\")"
   ]
  },
  {
   "cell_type": "code",
   "execution_count": 18,
   "id": "c2200b9b",
   "metadata": {},
   "outputs": [
    {
     "name": "stderr",
     "output_type": "stream",
     "text": [
      "c:\\Users\\DHRUV\\anaconda3\\envs\\image\\Lib\\site-packages\\huggingface_hub\\file_download.py:143: UserWarning: `huggingface_hub` cache-system uses symlinks by default to efficiently store duplicated files but your machine does not support them in C:\\Users\\DHRUV\\.cache\\huggingface\\hub\\models--distilbert--distilbert-base-uncased. Caching files will still work but in a degraded version that might require more space on your disk. This warning can be disabled by setting the `HF_HUB_DISABLE_SYMLINKS_WARNING` environment variable. For more details, see https://huggingface.co/docs/huggingface_hub/how-to-cache#limitations.\n",
      "To support symlinks on Windows, you either need to activate Developer Mode or to run Python as an administrator. In order to activate developer mode, see this article: https://docs.microsoft.com/en-us/windows/apps/get-started/enable-your-device-for-development\n",
      "  warnings.warn(message)\n"
     ]
    }
   ],
   "source": [
    "tokenizor = AutoTokenizer.from_pretrained(\"distilbert/distilbert-base-uncased\")"
   ]
  },
  {
   "cell_type": "markdown",
   "id": "aaeebafa",
   "metadata": {},
   "source": [
    "## Tokenize the whole dataset"
   ]
  },
  {
   "cell_type": "code",
   "execution_count": 19,
   "id": "8624e9f3",
   "metadata": {},
   "outputs": [
    {
     "name": "stderr",
     "output_type": "stream",
     "text": [
      "Map: 100%|██████████| 5426/5426 [00:00<00:00, 31239.04 examples/s]\n"
     ]
    },
    {
     "data": {
      "text/plain": [
       "Dataset({\n",
       "    features: ['text', 'labels', 'id', 'input_ids', 'attention_mask'],\n",
       "    num_rows: 43410\n",
       "})"
      ]
     },
     "execution_count": 19,
     "metadata": {},
     "output_type": "execute_result"
    }
   ],
   "source": [
    "def tokenize(batch):\n",
    "    return tokenizor(batch[\"text\"],padding = True,truncation=True)\n",
    "\n",
    "dataset_encoded = dataset.map(tokenize,batch_size=None,batched=True)\n",
    "dataset_encoded[\"train\"]"
   ]
  },
  {
   "cell_type": "code",
   "execution_count": 20,
   "id": "15e1d38e",
   "metadata": {},
   "outputs": [
    {
     "name": "stdout",
     "output_type": "stream",
     "text": [
      "{'text': \"My favourite food is anything I didn't have to cook myself.\", 'labels': [27], 'id': 'eebbqej', 'input_ids': [101, 2026, 8837, 2833, 2003, 2505, 1045, 2134, 1005, 1056, 2031, 2000, 5660, 2870, 1012, 102, 0, 0, 0, 0, 0, 0, 0, 0, 0, 0, 0, 0, 0, 0, 0, 0, 0, 0, 0, 0, 0, 0, 0, 0, 0, 0, 0, 0, 0, 0, 0, 0, 0, 0, 0, 0, 0, 0, 0, 0, 0, 0, 0, 0, 0, 0, 0, 0, 0, 0, 0, 0, 0, 0, 0, 0, 0, 0, 0, 0, 0, 0, 0, 0, 0, 0, 0, 0, 0, 0, 0, 0, 0, 0, 0, 0, 0, 0, 0, 0, 0, 0, 0, 0, 0, 0, 0, 0, 0, 0, 0, 0, 0, 0, 0, 0, 0, 0, 0, 0, 0, 0, 0, 0, 0, 0, 0, 0, 0, 0, 0, 0, 0, 0, 0, 0, 0, 0, 0, 0, 0, 0, 0, 0, 0, 0, 0, 0, 0, 0, 0, 0, 0, 0, 0, 0, 0, 0, 0, 0, 0, 0, 0, 0, 0, 0, 0, 0, 0, 0, 0, 0, 0, 0, 0, 0, 0, 0, 0, 0, 0, 0, 0, 0, 0, 0, 0, 0, 0, 0, 0, 0, 0, 0, 0, 0, 0, 0, 0, 0, 0, 0, 0, 0, 0, 0, 0, 0, 0, 0, 0, 0, 0, 0, 0, 0, 0, 0, 0, 0, 0, 0, 0, 0, 0, 0, 0, 0, 0, 0, 0, 0, 0, 0, 0, 0, 0, 0, 0, 0, 0, 0, 0, 0, 0, 0, 0, 0, 0, 0, 0, 0, 0, 0, 0, 0, 0, 0, 0, 0, 0, 0, 0, 0, 0, 0, 0, 0, 0, 0, 0, 0, 0, 0, 0, 0, 0, 0, 0, 0, 0, 0, 0, 0, 0, 0, 0, 0, 0, 0, 0, 0, 0, 0, 0, 0, 0, 0, 0, 0, 0, 0, 0, 0, 0, 0, 0, 0, 0, 0, 0, 0, 0, 0, 0, 0, 0, 0, 0, 0], 'attention_mask': [1, 1, 1, 1, 1, 1, 1, 1, 1, 1, 1, 1, 1, 1, 1, 1, 0, 0, 0, 0, 0, 0, 0, 0, 0, 0, 0, 0, 0, 0, 0, 0, 0, 0, 0, 0, 0, 0, 0, 0, 0, 0, 0, 0, 0, 0, 0, 0, 0, 0, 0, 0, 0, 0, 0, 0, 0, 0, 0, 0, 0, 0, 0, 0, 0, 0, 0, 0, 0, 0, 0, 0, 0, 0, 0, 0, 0, 0, 0, 0, 0, 0, 0, 0, 0, 0, 0, 0, 0, 0, 0, 0, 0, 0, 0, 0, 0, 0, 0, 0, 0, 0, 0, 0, 0, 0, 0, 0, 0, 0, 0, 0, 0, 0, 0, 0, 0, 0, 0, 0, 0, 0, 0, 0, 0, 0, 0, 0, 0, 0, 0, 0, 0, 0, 0, 0, 0, 0, 0, 0, 0, 0, 0, 0, 0, 0, 0, 0, 0, 0, 0, 0, 0, 0, 0, 0, 0, 0, 0, 0, 0, 0, 0, 0, 0, 0, 0, 0, 0, 0, 0, 0, 0, 0, 0, 0, 0, 0, 0, 0, 0, 0, 0, 0, 0, 0, 0, 0, 0, 0, 0, 0, 0, 0, 0, 0, 0, 0, 0, 0, 0, 0, 0, 0, 0, 0, 0, 0, 0, 0, 0, 0, 0, 0, 0, 0, 0, 0, 0, 0, 0, 0, 0, 0, 0, 0, 0, 0, 0, 0, 0, 0, 0, 0, 0, 0, 0, 0, 0, 0, 0, 0, 0, 0, 0, 0, 0, 0, 0, 0, 0, 0, 0, 0, 0, 0, 0, 0, 0, 0, 0, 0, 0, 0, 0, 0, 0, 0, 0, 0, 0, 0, 0, 0, 0, 0, 0, 0, 0, 0, 0, 0, 0, 0, 0, 0, 0, 0, 0, 0, 0, 0, 0, 0, 0, 0, 0, 0, 0, 0, 0, 0, 0, 0, 0, 0, 0, 0, 0, 0, 0, 0, 0, 0, 0, 0]}\n"
     ]
    }
   ],
   "source": [
    "for i in dataset_encoded[\"train\"]:\n",
    "    print(i)\n",
    "    break"
   ]
  },
  {
   "cell_type": "markdown",
   "id": "11b79ea4",
   "metadata": {},
   "source": [
    "# Predicting From Model"
   ]
  },
  {
   "cell_type": "code",
   "execution_count": 21,
   "id": "3953b66e",
   "metadata": {},
   "outputs": [],
   "source": [
    "def mutlilabel_handler(batch):\n",
    "    num_labels = 28\n",
    "    multi_hot = np.zeros(num_labels,dtype=float)\n",
    "    for labels in batch[\"labels\"]:\n",
    "        multi_hot[labels] = 1.0\n",
    "    \n",
    "    batch[\"labels\"] = multi_hot.tolist()\n",
    "    return batch"
   ]
  },
  {
   "cell_type": "code",
   "execution_count": 22,
   "id": "b703a742",
   "metadata": {},
   "outputs": [
    {
     "name": "stderr",
     "output_type": "stream",
     "text": [
      "Map: 100%|██████████| 5426/5426 [00:00<00:00, 13667.21 examples/s]\n"
     ]
    }
   ],
   "source": [
    "dataset_adjusted = dataset_encoded.map(mutlilabel_handler)"
   ]
  },
  {
   "cell_type": "code",
   "execution_count": 23,
   "id": "00b73224",
   "metadata": {},
   "outputs": [
    {
     "name": "stderr",
     "output_type": "stream",
     "text": [
      "Some weights of DistilBertForSequenceClassification were not initialized from the model checkpoint at distilbert/distilbert-base-uncased and are newly initialized: ['classifier.bias', 'classifier.weight', 'pre_classifier.bias', 'pre_classifier.weight']\n",
      "You should probably TRAIN this model on a down-stream task to be able to use it for predictions and inference.\n"
     ]
    }
   ],
   "source": [
    "model = DistilBertForSequenceClassification.from_pretrained(\"distilbert/distilbert-base-uncased\",num_labels = 27,problem_type=\"multi_label_classification\",device_map = \"cuda\",torch_dtype = \"auto\")"
   ]
  },
  {
   "cell_type": "code",
   "execution_count": 24,
   "id": "f86131f5",
   "metadata": {},
   "outputs": [],
   "source": [
    "def predict(batch):\n",
    "    inputs = {k:torch.tensor(v).to(\"cuda\") for k,v in batch.items() if k in tokenizor.model_input_names}\n",
    "    with torch.no_grad():\n",
    "        logits = model(**inputs).logits\n",
    "        output = torch.sigmoid(logits)\n",
    "    \n",
    "    threshold = 0.5\n",
    "    prediction = (output >= threshold).int().squeeze().tolist()\n",
    "\n",
    "    return {\"prediction\" : prediction}"
   ]
  },
  {
   "cell_type": "code",
   "execution_count": 25,
   "id": "10cc23bf",
   "metadata": {},
   "outputs": [
    {
     "name": "stderr",
     "output_type": "stream",
     "text": [
      "Map: 100%|██████████| 43410/43410 [04:17<00:00, 168.35 examples/s]\n",
      "Map: 100%|██████████| 5426/5426 [00:05<00:00, 1065.96 examples/s]\n",
      "Map: 100%|██████████| 5427/5427 [00:05<00:00, 1004.62 examples/s]\n"
     ]
    }
   ],
   "source": [
    "dataset_predicted = dataset_adjusted.map(predict,batch_size=20,batched=True)"
   ]
  },
  {
   "cell_type": "code",
   "execution_count": 26,
   "id": "31562cf9",
   "metadata": {},
   "outputs": [
    {
     "name": "stdout",
     "output_type": "stream",
     "text": [
      "Since we are dealing with multilabel classfication we can only see loss that is 0.6771755218505859 their is no point in ploting confusion matrix\n"
     ]
    }
   ],
   "source": [
    "predicted_labels = torch.tensor([[float(x) for x in row] for row in dataset_predicted[\"train\"][\"labels\"]])\n",
    "actual_labels = torch.tensor([[float(x) for x in row] for row in dataset_adjusted[\"train\"][\"labels\"]])\n",
    "\n",
    "loss_fn = torch.nn.BCEWithLogitsLoss()\n",
    "loss = loss_fn(actual_labels,predicted_labels)\n",
    "print(f\"Since we are dealing with multilabel classfication we can only see loss that is {loss} their is no point in ploting confusion matrix\")"
   ]
  }
 ],
 "metadata": {
  "kernelspec": {
   "display_name": "image",
   "language": "python",
   "name": "python3"
  },
  "language_info": {
   "codemirror_mode": {
    "name": "ipython",
    "version": 3
   },
   "file_extension": ".py",
   "mimetype": "text/x-python",
   "name": "python",
   "nbconvert_exporter": "python",
   "pygments_lexer": "ipython3",
   "version": "3.11.13"
  }
 },
 "nbformat": 4,
 "nbformat_minor": 5
}
